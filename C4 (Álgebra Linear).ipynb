{
 "cells": [
  {
   "attachments": {},
   "cell_type": "markdown",
   "metadata": {},
   "source": [
    "Vetores:"
   ]
  },
  {
   "attachments": {},
   "cell_type": "markdown",
   "metadata": {},
   "source": [
    "Existem várias definições em diferentes níveis para vetores, desde elementos pertencentes a um espaço veotrial que são equipolentes entre sí até objetos matemáticos que podem ser somados entre sí e multiplicados por escalares.\n",
    "\n",
    "Na prática para nossas futuras aplicações, podemos entender vetores como pontos em um espaço de dimensão finita. Vetores são uma excelente forma de representar dados numéticos. "
   ]
  },
  {
   "cell_type": "code",
   "execution_count": 4,
   "metadata": {},
   "outputs": [],
   "source": [
    "# Armazenando valores para um vetor tridimensional (altura, peso, idade) e um vetor quadridimensional\n",
    "# contendo notas (teste 1, teste 2, teste 3, teste 4):\n",
    "\n",
    "Vector = list[float]\n",
    "\n",
    "altura_peso_idade = [180, # cm\n",
    "                     75, # kg\n",
    "                     30] # anos\n",
    "\n",
    "notas = [70, # teste 1\n",
    "         65, # teste 2\n",
    "         50, # teste 3\n",
    "         83] # teste 4"
   ]
  },
  {
   "attachments": {},
   "cell_type": "markdown",
   "metadata": {},
   "source": [
    "Utilizaremos vetores para fazer operações aritméticas, list em Python não facilitam na aritmética vetorial então é necessário contruir estas ferramentas."
   ]
  },
  {
   "cell_type": "code",
   "execution_count": 5,
   "metadata": {},
   "outputs": [],
   "source": [
    "# Soma vetorial\n",
    "\n",
    "def add_vetor(v: Vector, w: Vector) ->  Vector:\n",
    "    \"\"\" soma vetores de mesma dimensão\"\"\"\n",
    "    \n",
    "    assert len(v) == len(w), 'Vetores não tem a mesma dimensão'\n",
    "    return [v_i + w_i for v_i, w_i in zip(v,w)]\n",
    "\n",
    "assert add_vetor([1,6,5,9], [7,2,3,-1]) == [8,8,8,8]"
   ]
  },
  {
   "cell_type": "code",
   "execution_count": 6,
   "metadata": {},
   "outputs": [],
   "source": [
    "# Subtração Vetorial\n",
    "\n",
    "# analogamente podemos fazer uma função para subtrair vetores de mesma dimensão:\n",
    "\n",
    "def sub_vetor(v: Vector, w: Vector) ->  Vector:\n",
    "    \"\"\" soma vetores de mesma dimensão \"\"\"\n",
    "    \n",
    "    assert len(v) == len(w), 'Vetores não tem a mesma dimensão'\n",
    "    return [v_i - w_i for v_i, w_i in zip(v,w)]\n",
    "\n",
    "assert sub_vetor([1,6,5,9], [-1,-10,2,-1]) == [2, 16, 3, 10]"
   ]
  },
  {
   "cell_type": "code",
   "execution_count": 7,
   "metadata": {},
   "outputs": [],
   "source": [
    "# Operações com multiplos vetores\n",
    "\n",
    "def add_nvetores(vetores: list[Vector]) -> Vector:\n",
    "    \"\"\" soma n vetores de mesma dimensão \"\"\"\n",
    "\n",
    "    # verifica se existem vetores no parâmetro \"vetores\"\n",
    "    assert vetores, 'Parâmetro \"vetores\" esta vazio'\n",
    "\n",
    "     # verifica se os vetores tem mesma dimensão\n",
    "    num_elementos = len(vetores[0])\n",
    "    assert all(len(v) == num_elementos for v in vetores), 'Vetores não tem a mesma dimensão'\n",
    "\n",
    "    # somando cada elemento correspondente para cada vetor\n",
    "    return [sum(vetor[i] for vetor in vetores) for i in range(num_elementos)]\n",
    "\n",
    "assert add_nvetores([[1,0], [1,3], [2,1], [4,4]]) == [8,8]"
   ]
  },
  {
   "cell_type": "code",
   "execution_count": 8,
   "metadata": {},
   "outputs": [],
   "source": [
    "# multiplicação de um vetor por um escalar\n",
    "\n",
    "def mult_esc(c: float, v: Vector) -> Vector:\n",
    "    \"\"\" multiplica o vetor (v) por um escalar (c)\"\"\"\n",
    "    return [c*v_i for v_i in v]\n",
    "\n",
    "assert mult_esc(3, [2, 7, -1]) == [6, 21, -3]\n"
   ]
  },
  {
   "cell_type": "code",
   "execution_count": 9,
   "metadata": {},
   "outputs": [],
   "source": [
    "# Média dos elementos em um vetor\n",
    "\n",
    "def med_vetor(vetores: list[Vector]) -> Vector:\n",
    "    \"\"\" toma a média dos elementos de um vetor\"\"\"\n",
    "    n = len(vetores)\n",
    "\n",
    "    return mult_esc(1/n, add_nvetores(vetores))\n",
    "\n",
    "assert med_vetor([[1,0], [1,3], [2,1], [4,4]]) == [2,2]"
   ]
  },
  {
   "cell_type": "code",
   "execution_count": 10,
   "metadata": {},
   "outputs": [],
   "source": [
    "# Produto escalar\n",
    "\n",
    "def prod_esc(v: Vector, w: Vector) -> float:\n",
    "    \"\"\" produto escalar entre os vetores (v) e (w)\"\"\"\n",
    "    assert len(v) == len(w), 'Vetores não tem a mesma dimensão'\n",
    "\n",
    "    return sum([v_i*w_i for v_i, w_i in zip(v,w)])\n",
    "\n",
    "assert prod_esc([2,0,1], [3,9,5]) == 11 # [6,0,5] -> 6+5 = 11"
   ]
  },
  {
   "cell_type": "code",
   "execution_count": 11,
   "metadata": {},
   "outputs": [],
   "source": [
    "# Módulo de um vetor\n",
    "\n",
    "# muitas vezes é impoortante saber o módulo de um vetor, para isso podemos somar os quadrados\n",
    "# dos elementos e tirar a raiz quadrada da soma\n",
    "\n",
    "import math\n",
    "\n",
    "def mod(v:Vector) -> float:\n",
    "    \"\"\" retorna o módulo do vetor (v)\"\"\"\n",
    "    return math.sqrt(prod_esc(v,v))\n",
    "\n",
    "assert mod([3,4]) == 5 # raiz(9+16) = 5"
   ]
  },
  {
   "cell_type": "code",
   "execution_count": 12,
   "metadata": {},
   "outputs": [],
   "source": [
    "# Distância entre dois vetores\n",
    "\n",
    "# cada vetor localiza um ponto no espaço, através da função a seguir podemos determinar a \n",
    "# distância entre dois pontos localizados por dois vetores respectivamente\n",
    "\n",
    "def dist(v:Vector, w:Vector) -> float:\n",
    "    \"\"\" retorna a distância entre dois pontos p(v) e p(w)\"\"\"\n",
    "    return math.sqrt(sum([v_i**2-w_i**2 for v_i, w_i in zip(v,w)]))\n",
    "\n",
    "assert dist([3, 5], [1,2]) == math.sqrt(29)"
   ]
  },
  {
   "attachments": {},
   "cell_type": "markdown",
   "metadata": {},
   "source": [
    "Matrizes:"
   ]
  },
  {
   "attachments": {},
   "cell_type": "markdown",
   "metadata": {},
   "source": [
    "Matriz é uma coleção bidimensional de valores e podemos representa-las aqui como uma lista de listas"
   ]
  },
  {
   "cell_type": "code",
   "execution_count": 13,
   "metadata": {},
   "outputs": [],
   "source": [
    "Matrix = list[list[float]]\n",
    "\n",
    "A = [[1,2,3], # matriz A tem 2 linhas e 3 colunas\n",
    "     [4,5,6]]\n",
    "\n",
    "B = [[1,2], # matriz B tem 3 linhas e 2 colunas\n",
    "     [3,4],\n",
    "     [5,6]]"
   ]
  },
  {
   "attachments": {},
   "cell_type": "markdown",
   "metadata": {},
   "source": [
    "Como estamos tratando de listas, os índices iniciam em 0, sendo len(A) o número de linhas e len(A[0]) seu número de colunas, que caracterizam o formato da matriz"
   ]
  },
  {
   "cell_type": "code",
   "execution_count": 14,
   "metadata": {},
   "outputs": [],
   "source": [
    "def shape(A: Matrix) -> tuple[int,int]:\n",
    "    \"\"\" Retorna o formato da matriz A \"\"\"\n",
    "\n",
    "    num_linhas = len(A)\n",
    "    num_col = len(A[0])\n",
    "    return num_linhas, num_col\n",
    "\n",
    "assert shape([[2,6,3], [0,1,0]]) == (2,3)"
   ]
  },
  {
   "attachments": {},
   "cell_type": "markdown",
   "metadata": {},
   "source": [
    "Dizemos então que a matriz (do exemplo anterior) é uma matriz 2 por 3 (2x3) e podemos interpretar cada linha da matriz como sendo um vetor com dimensão igual ao número de colunas"
   ]
  },
  {
   "cell_type": "code",
   "execution_count": 15,
   "metadata": {},
   "outputs": [],
   "source": [
    "# Obtendo linhas e colunas deuma matriz na forma vetorial\n",
    "\n",
    "def get_linha(A: Matrix, i:int) -> Vector:\n",
    "    \"\"\" Retorna a linha (i) da matrix A \"\"\"\n",
    "    return A[i]\n",
    "\n",
    "def get_col(A: Matrix, j:int) -> Vector:\n",
    "    \"\"\" Retorna a coluna (j) da matrix A \"\"\"\n",
    "    return [A_i[j] for A_i in A]"
   ]
  },
  {
   "attachments": {},
   "cell_type": "markdown",
   "metadata": {},
   "source": [
    "Utilizaremos matrizes de várias formas, desde representar um conjunto de dados com multiplos vetores até rpresentar funções lineares para cada linha com dimensão igual ao número de colunas. Além disso podemos representar relações binárias."
   ]
  }
 ],
 "metadata": {
  "kernelspec": {
   "display_name": "Python 3",
   "language": "python",
   "name": "python3"
  },
  "language_info": {
   "codemirror_mode": {
    "name": "ipython",
    "version": 3
   },
   "file_extension": ".py",
   "mimetype": "text/x-python",
   "name": "python",
   "nbconvert_exporter": "python",
   "pygments_lexer": "ipython3",
   "version": "3.9.7"
  },
  "orig_nbformat": 4
 },
 "nbformat": 4,
 "nbformat_minor": 2
}
