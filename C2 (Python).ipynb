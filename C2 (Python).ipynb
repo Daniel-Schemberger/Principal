{
 "cells": [
  {
   "attachments": {},
   "cell_type": "markdown",
   "metadata": {},
   "source": [
    "Resumo intensivo de Python"
   ]
  },
  {
   "attachments": {},
   "cell_type": "markdown",
   "metadata": {},
   "source": [
    "1) Funções"
   ]
  },
  {
   "cell_type": "code",
   "execution_count": 4,
   "metadata": {},
   "outputs": [
    {
     "data": {
      "text/plain": [
       "10"
      ]
     },
     "execution_count": 4,
     "metadata": {},
     "output_type": "execute_result"
    }
   ],
   "source": [
    "# Cada função é uma regra que recebe zero ou mais argumentos e retorna a saída definida\n",
    "#  na função.\n",
    "\n",
    "def double(x):\n",
    "    return 2*x\n",
    "\n",
    "# ex:\n",
    "\n",
    "double(5)"
   ]
  },
  {
   "cell_type": "code",
   "execution_count": 5,
   "metadata": {},
   "outputs": [
    {
     "data": {
      "text/plain": [
       "(2, 2)"
      ]
     },
     "execution_count": 5,
     "metadata": {},
     "output_type": "execute_result"
    }
   ],
   "source": [
    "# Funções em Python são de *primeira classe*, isto é, podemos atribuí-las a variáveis e\n",
    "# as utilizar como argumento de uma outra função.\n",
    "\n",
    "def apply_to_one(f):\n",
    "    return f(1)     #chamando a função e atribuindo seu valor para argumentos = 1\n",
    "\n",
    "dp = double # armazenando a função em uma variável\n",
    "apply_to_one(dp), apply_to_one(double) # utilizando a função (e variável associada)\n",
    "                                       # como argumento"
   ]
  },
  {
   "cell_type": "code",
   "execution_count": 6,
   "metadata": {},
   "outputs": [
    {
     "data": {
      "text/plain": [
       "7"
      ]
     },
     "execution_count": 6,
     "metadata": {},
     "output_type": "execute_result"
    }
   ],
   "source": [
    "# Funções anônimas (Lambda)\n",
    "\n",
    "apply_to_one(lambda x:x+6) #utilizando a função anônima (y=x+6) como argumento"
   ]
  },
  {
   "cell_type": "code",
   "execution_count": 8,
   "metadata": {},
   "outputs": [
    {
     "name": "stdout",
     "output_type": "stream",
     "text": [
      "Mensagem Padrão\n",
      "Hello World\n"
     ]
    }
   ],
   "source": [
    "# Funções podem receber valores padrões como argumentos que são\n",
    "# retornados quando nenhum argumento é especificado\n",
    "\n",
    "def my_print(message=\"Mensagem Padrão\"):\n",
    "    return print(message)\n",
    "\n",
    "my_print()\n",
    "my_print('Hello World')"
   ]
  },
  {
   "cell_type": "code",
   "execution_count": 12,
   "metadata": {},
   "outputs": [
    {
     "name": "stdout",
     "output_type": "stream",
     "text": [
      "nome? de alguma coisa\n",
      "Daniel de alguma coisa\n",
      "nome? Schemberger\n"
     ]
    }
   ],
   "source": [
    "# Exemplo\n",
    "\n",
    "def nome_completo(first='nome?', last='de alguma coisa'):\n",
    "    return first + ' '+ last\n",
    "\n",
    "print(nome_completo())\n",
    "print(nome_completo('Daniel'))\n",
    "print(nome_completo(last='Schemberger'))"
   ]
  },
  {
   "cell_type": "markdown",
   "metadata": {},
   "source": [
    "2) Exceções"
   ]
  },
  {
   "cell_type": "code",
   "execution_count": 15,
   "metadata": {},
   "outputs": [
    {
     "name": "stdout",
     "output_type": "stream",
     "text": [
      "Divisão de 0 por 0 é indefinido\n"
     ]
    }
   ],
   "source": [
    "# Quando existe algum erro ocorre o Python gera uma exceção, para trata-las podemos\n",
    "# utilizar o \"try\" e \"except\"\n",
    "\n",
    "try:\n",
    "    print(0/0)\n",
    "except ZeroDivisionError:\n",
    "    print('Divisão de 0 por 0 é indefinido')\n",
    "\n",
    "# \"print(0/0)\" resulta no erro \"ZeroDivisionError\"\n",
    "\n",
    "# Podemos tentar rodar o código \n",
    "# e introduzir uma resposta para uma exceção\n"
   ]
  },
  {
   "cell_type": "markdown",
   "metadata": {},
   "source": [
    "3) Lista"
   ]
  },
  {
   "cell_type": "code",
   "execution_count": 19,
   "metadata": {},
   "outputs": [
    {
     "name": "stdout",
     "output_type": "stream",
     "text": [
      "Comprimento da lista: 3\n",
      "Soma da lista: 8\n"
     ]
    }
   ],
   "source": [
    "# Listas são as estruturas de dados mais fundamental do Python\n",
    "# Listas concistem em uma coleção ordenada de elementos (podendo ser\n",
    "# de diferentes formatos entre sí)\n",
    "\n",
    "num = [1,3,4]\n",
    " \n",
    " # comprimento e soma de listas\n",
    "\n",
    "list_length = len(num)\n",
    "list_sum = sum(num)\n",
    "\n",
    "print(f'Comprimento da lista: {list_length}')\n",
    "print(f'Soma da lista: {list_sum}')"
   ]
  },
  {
   "cell_type": "code",
   "execution_count": 20,
   "metadata": {},
   "outputs": [
    {
     "name": "stdout",
     "output_type": "stream",
     "text": [
      "Primeiro elemento: 3\n",
      "Quinto elemento: 50\n",
      "Ultimo elemento: 99\n"
     ]
    }
   ],
   "source": [
    "# Obtendo elementos em uma lista:\n",
    "\n",
    "x = [3,12,5,35,2,50,17,22,1,99]\n",
    "\n",
    "print(f'Primeiro elemento: {x[0]}')\n",
    "print(f'Quinto elemento: {x[5]}')\n",
    "print(f'Ultimo elemento: {x[-1]}')\n",
    "\n",
    "# Listas são ordenadas por índices em cada posição, o índice começa em \"0\""
   ]
  },
  {
   "cell_type": "code",
   "execution_count": 23,
   "metadata": {},
   "outputs": [
    {
     "name": "stdout",
     "output_type": "stream",
     "text": [
      "[3, 12, 5]\n",
      "[50, 17, 22, 1, 99]\n",
      "[12, 5, 35, 2, 50, 17, 22, 1]\n"
     ]
    }
   ],
   "source": [
    "# Listas podem ser fatiadas usando \":\"\n",
    "\n",
    "print(x[:3]) # fatiando a lista do primeiro elemento até o terceiro (sem o incluir)\n",
    "print(x[5:]) # lista do quinto elemento (sem o incluir) até o último\n",
    "print(x[1:-1]) # lista sem o primeiro e último elemento "
   ]
  },
  {
   "cell_type": "code",
   "execution_count": 30,
   "metadata": {},
   "outputs": [
    {
     "name": "stdout",
     "output_type": "stream",
     "text": [
      "[3, 35, 17, 99]\n",
      "True\n",
      "False\n"
     ]
    }
   ],
   "source": [
    "# Ao fatiar, podemos usar um terceiro argumento para representar o \"passo\"\n",
    "\n",
    "print(x[::3]) # todos os elementos da lista mas pulando de 3 em 3\n",
    "\n",
    "# Python proporciona o operador \"in\" para fazer checagem na lista \n",
    "\n",
    "print(99 in x) # existe 99 na lista \"x\"?\n",
    "print(25 in x) # existe 25 na lista \"x\"?"
   ]
  },
  {
   "cell_type": "code",
   "execution_count": 44,
   "metadata": {},
   "outputs": [
    {
     "name": "stdout",
     "output_type": "stream",
     "text": [
      "[1, 2, 3, 4, 5, 6]\n",
      "[1, 2, 3, 4, 5, 6, 7, 8, 9]\n"
     ]
    }
   ],
   "source": [
    "# Concatenando listas\n",
    "\n",
    "z = [1,2,3]\n",
    "z.extend([4,5,6]) # nova lista z = [1,2,3,4,5,6]\n",
    "\n",
    "# concatenando sem alterar lista original\n",
    "\n",
    "y = z + [7,8,9]\n",
    "\n",
    "print(z)\n",
    "print(y)"
   ]
  },
  {
   "cell_type": "code",
   "execution_count": 45,
   "metadata": {},
   "outputs": [
    {
     "name": "stdout",
     "output_type": "stream",
     "text": [
      "[1, 2, 3, 4, 5, 6, 7, 8, 9, 10]\n"
     ]
    }
   ],
   "source": [
    "# Adicionando elementos a uma lista \n",
    "\n",
    "y.append(10)\n",
    "print(y)"
   ]
  },
  {
   "cell_type": "code",
   "execution_count": null,
   "metadata": {},
   "outputs": [],
   "source": [
    "# Usualmente é útil descompactar listas\n",
    "\n",
    "a, b = [1, 2]\n",
    "# assim a=1 e b=2 (é necessario q o número de variáveis seja \n",
    "# igual ao número de elementos na lista)"
   ]
  },
  {
   "attachments": {},
   "cell_type": "markdown",
   "metadata": {},
   "source": [
    "4) Tuplas"
   ]
  },
  {
   "cell_type": "code",
   "execution_count": 50,
   "metadata": {},
   "outputs": [
    {
     "name": "stdout",
     "output_type": "stream",
     "text": [
      "[1, 10]\n",
      "Tuplas não podem ser alteradas\n"
     ]
    }
   ],
   "source": [
    "# Tuplas são muito semelhantes as listas, sua principal diferença é que \n",
    "# uma vez criada não pode modificada\n",
    "\n",
    "lista = [1,2]\n",
    "tupla = (5,6)\n",
    "\n",
    "lista[1] = 10 # alterando o segundo elemento da lista\n",
    "print(lista)\n",
    "\n",
    "try:\n",
    "    tupla[1] = 50\n",
    "except:\n",
    "    print('Tuplas não podem ser alteradas')\n"
   ]
  },
  {
   "cell_type": "code",
   "execution_count": 53,
   "metadata": {},
   "outputs": [
    {
     "name": "stdout",
     "output_type": "stream",
     "text": [
      "(7, 10)\n",
      "7\n",
      "10\n"
     ]
    }
   ],
   "source": [
    "# Tuplas podem ser uteis para armazenar funções com multiplas saídas\n",
    "\n",
    "def soma_e_produto(x,y):\n",
    "    return (x+y), (x*y)\n",
    "\n",
    "s, p = soma_e_produto(2,5)\n",
    "\n",
    "print(soma_e_produto(2,5))\n",
    "print(s)\n",
    "print(p)\n",
    "\n",
    "# Tuplas também podem ser usadas para atribuições multiplas\n",
    "\n",
    "x, y = 1, 2 # x=1 e y=2\n",
    "x, y = y, x # agora x=2 e y=1"
   ]
  },
  {
   "cell_type": "markdown",
   "metadata": {},
   "source": [
    "5) Dicionários"
   ]
  },
  {
   "cell_type": "code",
   "execution_count": 58,
   "metadata": {},
   "outputs": [
    {
     "name": "stdout",
     "output_type": "stream",
     "text": [
      "75\n",
      "True\n",
      "False\n"
     ]
    }
   ],
   "source": [
    "# Outra estrutura fundamental são os dicionários, onde associamos um valor\n",
    "# a uma chave\n",
    "\n",
    "notas = {'Lucas':75, 'Pedro':60, 'Thiago':80, 'Marcos':55}\n",
    "\n",
    "# Podemos verificar o valor associado a uma chave\n",
    "\n",
    "nota_Lucas = notas['Lucas']\n",
    "print(nota_Lucas)\n",
    "\n",
    "# Também podemos verificar a existencia de chaves em um dicionário\n",
    "\n",
    "print('Thiago' in notas)\n",
    "print('José' in notas)"
   ]
  },
  {
   "cell_type": "code",
   "execution_count": 59,
   "metadata": {},
   "outputs": [
    {
     "name": "stdout",
     "output_type": "stream",
     "text": [
      "60\n",
      "0\n"
     ]
    }
   ],
   "source": [
    "# Podemos usar \"get\" para atribuir um valor padrão\n",
    "# para chaves que não existem no dicionário\n",
    "\n",
    "nota_Pedro = notas.get('Pedro',0)\n",
    "nota_José = notas.get('José', 0)\n",
    "\n",
    "print(nota_Pedro) # não altera valor cuja chave já exista\n",
    "print(nota_José) # atribui valor padrão a chave inexistente"
   ]
  },
  {
   "cell_type": "code",
   "execution_count": 62,
   "metadata": {},
   "outputs": [
    {
     "name": "stdout",
     "output_type": "stream",
     "text": [
      "dict_keys(['Lucas', 'Pedro', 'Thiago', 'Marcos'])\n",
      "dict_values([75, 60, 80, 55])\n",
      "dict_items([('Lucas', 75), ('Pedro', 60), ('Thiago', 80), ('Marcos', 55)])\n"
     ]
    }
   ],
   "source": [
    "# Verificando chaves e valores\n",
    "\n",
    "Alunos = notas.keys()\n",
    "Notas = notas.values()\n",
    "Aluno_e_nota = notas.items()\n",
    "\n",
    "print(Alunos)\n",
    "print(Notas)\n",
    "print(Aluno_e_nota)"
   ]
  },
  {
   "cell_type": "code",
   "execution_count": 64,
   "metadata": {},
   "outputs": [],
   "source": [
    "# Defaltdict\n",
    "# ao procurar uma chave inexistente, defaltdict adiciona um valor \n",
    "# a ela usando uma função de argumento zero indicada na sua criação\n",
    "\n",
    "from collections import defaultdict\n",
    "\n",
    "# exemplo -> Contar número de palavras em um texto:\n",
    "\n",
    "# contador_de_palavras = defaultdict(int)\n",
    "# for palavra in texto:\n",
    "#     contador_de_palavras[palavra] +=1"
   ]
  },
  {
   "attachments": {},
   "cell_type": "markdown",
   "metadata": {},
   "source": [
    "6) Conjuntos"
   ]
  },
  {
   "cell_type": "code",
   "execution_count": null,
   "metadata": {},
   "outputs": [],
   "source": [
    "# Outra forma de estrutura de dados é o \"set\" (conjuntos) que \n",
    "# consiste em uma coleção de elementos distintos\n",
    "\n",
    "primos_menores_que10 = {2, 3, 5, 7}\n",
    "\n",
    "# Os conjuntos podem ser úteis por dois pontos\n",
    "# 1) O operador \"in\" pode fazer buscas mais rápidas em sets\n",
    "# 2) Aplicar teste de associação em grande coleção de ítens"
   ]
  },
  {
   "attachments": {},
   "cell_type": "markdown",
   "metadata": {},
   "source": [
    "7) Fluxo de Controle\n"
   ]
  },
  {
   "cell_type": "code",
   "execution_count": 66,
   "metadata": {},
   "outputs": [
    {
     "name": "stdout",
     "output_type": "stream",
     "text": [
      "7 é umnúmero ímpar\n"
     ]
    }
   ],
   "source": [
    "# Condicionais\n",
    "\n",
    "n = 7\n",
    "\n",
    "if n%2 == 0:\n",
    "    print(f'{n} é um número par')\n",
    "else:\n",
    "    print(f'{n} é umnúmero ímpar')"
   ]
  },
  {
   "cell_type": "code",
   "execution_count": 68,
   "metadata": {},
   "outputs": [
    {
     "data": {
      "text/plain": [
       "'ímpar'"
      ]
     },
     "execution_count": 68,
     "metadata": {},
     "output_type": "execute_result"
    }
   ],
   "source": [
    "# é possível compactar essa estrutura em uma linha no formato:\n",
    "\n",
    "paridade = 'par' if n%2 == 0 else 'ímpar'\n",
    "\n",
    "paridade"
   ]
  },
  {
   "cell_type": "code",
   "execution_count": 69,
   "metadata": {},
   "outputs": [
    {
     "name": "stdout",
     "output_type": "stream",
     "text": [
      "0\n",
      "1\n",
      "2\n",
      "3\n",
      "4\n",
      "5\n",
      "6\n",
      "7\n",
      "8\n",
      "9\n"
     ]
    }
   ],
   "source": [
    "# Python contém a estrutura \"while\"\n",
    "\n",
    "x = 0\n",
    "while x<10:\n",
    "    print(x)\n",
    "    x += 1"
   ]
  },
  {
   "cell_type": "code",
   "execution_count": 70,
   "metadata": {},
   "outputs": [
    {
     "name": "stdout",
     "output_type": "stream",
     "text": [
      "0\n",
      "1\n",
      "2\n",
      "3\n",
      "4\n",
      "5\n",
      "6\n",
      "7\n",
      "8\n",
      "9\n"
     ]
    }
   ],
   "source": [
    "# Porém a estrutura condicional vai ser mais utilizada\n",
    "\n",
    "x = range(10)\n",
    "for i in x:\n",
    "    print(i)"
   ]
  },
  {
   "cell_type": "code",
   "execution_count": 72,
   "metadata": {},
   "outputs": [
    {
     "name": "stdout",
     "output_type": "stream",
     "text": [
      "0\n",
      "1\n",
      "2\n",
      "4\n",
      "5\n",
      "6\n"
     ]
    }
   ],
   "source": [
    "# Podemos utilizar \"continue\" e \"break\" para construir lógicas\n",
    "# mais complexas\n",
    "\n",
    "for i in x:\n",
    "    if i==3:\n",
    "        continue # continua para a próxima iteração\n",
    "    if i==7:\n",
    "        break # para a iteração\n",
    "    print(i)"
   ]
  },
  {
   "attachments": {},
   "cell_type": "markdown",
   "metadata": {},
   "source": [
    "8) Classificação"
   ]
  },
  {
   "cell_type": "code",
   "execution_count": 4,
   "metadata": {},
   "outputs": [
    {
     "name": "stdout",
     "output_type": "stream",
     "text": [
      "[1, 2, 3, 4]\n"
     ]
    }
   ],
   "source": [
    "# Listas tem o método \"sort\" que organiza a lista, para não alterar a lista original podemos\n",
    "# usar o método \"sorted\"\n",
    "\n",
    "x = [4, 2, 1, 3]\n",
    "y = sorted(x)\n",
    "\n",
    "print(y) # não altera a lista inicial"
   ]
  },
  {
   "cell_type": "code",
   "execution_count": 8,
   "metadata": {},
   "outputs": [
    {
     "name": "stdout",
     "output_type": "stream",
     "text": [
      "[1, 2, 3, 4]\n",
      "[4, 3, 2, 1]\n"
     ]
    }
   ],
   "source": [
    "# Por padrão o \"sort\" e \"sorted\" organizam na ordem crescente\n",
    "\n",
    "x.sort()\n",
    "print(x)\n",
    "\n",
    "x.sort(reverse=True) # organizando a lista na ordem decrescente\n",
    "print(x)"
   ]
  },
  {
   "attachments": {},
   "cell_type": "markdown",
   "metadata": {},
   "source": [
    "9) List Comprehention"
   ]
  },
  {
   "cell_type": "code",
   "execution_count": 13,
   "metadata": {},
   "outputs": [
    {
     "name": "stdout",
     "output_type": "stream",
     "text": [
      "[0, 4, 16, 36, 64]\n"
     ]
    }
   ],
   "source": [
    "# é possível compactar estruturas em uma única linha\n",
    "# a forma pythonic de se transformar listas ou alguns de seus elementos \n",
    "# em outra lista é através de list comprehention:\n",
    "\n",
    "par = [x for x in range(10) if x % 2 == 0]\n",
    "quadrado = [x*x for x in range(10)]\n",
    "pares_quadrados = [x*x for x in par]\n",
    "\n",
    "print(pares_quadrados)"
   ]
  },
  {
   "cell_type": "code",
   "execution_count": 17,
   "metadata": {},
   "outputs": [
    {
     "name": "stdout",
     "output_type": "stream",
     "text": [
      "{0: 0, 1: 1, 2: 4, 3: 9, 4: 16, 5: 25, 6: 36, 7: 49, 8: 64, 9: 81}\n"
     ]
    }
   ],
   "source": [
    "# Analogamente podemos transformar listas em dicionários\n",
    "\n",
    "dic_quadrado = {x: x*x for x in range(10)}\n",
    "print(dic_quadrado)"
   ]
  },
  {
   "cell_type": "code",
   "execution_count": 18,
   "metadata": {},
   "outputs": [
    {
     "name": "stdout",
     "output_type": "stream",
     "text": [
      "[(0, 0), (0, 1), (0, 2), (0, 3), (0, 4), (1, 0), (1, 1), (1, 2), (1, 3), (1, 4), (2, 0), (2, 1), (2, 2), (2, 3), (2, 4), (3, 0), (3, 1), (3, 2), (3, 3), (3, 4), (4, 0), (4, 1), (4, 2), (4, 3), (4, 4)]\n"
     ]
    }
   ],
   "source": [
    "# é possível informar mais de um \"for\"\n",
    "\n",
    "pares = [(x,y) \n",
    "        for x in range(5)\n",
    "        for y in range(5)]\n",
    "print(pares)"
   ]
  },
  {
   "cell_type": "code",
   "execution_count": 20,
   "metadata": {},
   "outputs": [
    {
     "name": "stdout",
     "output_type": "stream",
     "text": [
      "[(0, 1), (0, 2), (0, 3), (0, 4), (1, 2), (1, 3), (1, 4), (2, 3), (2, 4), (3, 4)]\n"
     ]
    }
   ],
   "source": [
    "# podemos até usar o resultado do \"for\" anterior\n",
    "\n",
    "p2 = [(x,y)\n",
    "    for x in range(5)\n",
    "    for y in range(x+1,5)] #lista com paras x < y\n",
    "\n",
    "print(p2)"
   ]
  },
  {
   "attachments": {},
   "cell_type": "markdown",
   "metadata": {},
   "source": [
    "10) Testes altomatizados e asserção"
   ]
  },
  {
   "cell_type": "code",
   "execution_count": 21,
   "metadata": {},
   "outputs": [],
   "source": [
    "# Existem frameworks que verifícam testes, aqui usaremos o \"assert\"\n",
    "#  para que gere um \"AssertionError\" caso a condição especificada não seja verdadeira\n",
    "\n",
    "assert 1+1 ==2\n",
    "assert 1+1 ==2, '1+1 deveria ser igual a 2'\n",
    "\n",
    "# como no segundo caso, é possível colocar uma mensagem caso a \n",
    "# condição não seja verdadeira\n",
    "\n",
    "def menor_item(w):\n",
    "    return min(w)\n",
    "\n",
    "assert menor_item([10, 35, 2, 50]) == 2\n",
    "assert menor_item([5, 3, -1, 0]) == -1"
   ]
  },
  {
   "attachments": {},
   "cell_type": "markdown",
   "metadata": {},
   "source": [
    "11) CLasses"
   ]
  },
  {
   "cell_type": "code",
   "execution_count": 26,
   "metadata": {},
   "outputs": [],
   "source": [
    "# Podemos definir classes para armazenar dados e suas respectivas funções\n",
    "\n",
    "# Criando uma classe para um \"contador numérico manual\"\n",
    "\n",
    "# A classe contém um count, incrmenta a contagem ao ser \"clicada\", permite\n",
    "# uma leitura de contagens e pode ser resetada\n",
    "\n",
    "class CountingClicker:\n",
    "    def __init__(self, count=0):\n",
    "        self.count = count\n",
    "\n",
    "# uma classe contém zero ou mais funções no seu corpo\n",
    "# por convenção, cada função recebe como primeiro parâmetro\n",
    "# o \"self\", que se refere a instância da classe\n",
    "\n",
    "# Em geral a classe tem um construtor chamado __init__, que recebe \n",
    "# todos os parâmetros  necessários para contruir uma instância da classe\n",
    "\n",
    "clicker = CountingClicker() # inicia em zero\n",
    "clicker2 = CountingClicker(count=100) # inicia em 100"
   ]
  },
  {
   "cell_type": "code",
   "execution_count": 32,
   "metadata": {},
   "outputs": [],
   "source": [
    "# o método __repr__ reproduz a representação de string de uma instância\n",
    "\n",
    "class CountingClicker:\n",
    "    def __init__(self, count=0):\n",
    "        self.count = count\n",
    "\n",
    "    def __repr__(self):\n",
    "        return f'CountingClicker(count={self.count})'\n",
    "\n",
    "    def click(self, num_times=1):\n",
    "        self.count += num_times\n",
    "\n",
    "    def read(self):\n",
    "        return self.count\n",
    "\n",
    "    def reset(self):\n",
    "        self.count = 0\n",
    "\n",
    "# depois das definições, usamos o assert para escrever testes para o contador\n",
    "\n",
    "clicker = CountingClicker()\n",
    "assert clicker.read() == 0, 'contagem deve começar no zero'\n",
    "clicker.click()\n",
    "clicker.click()\n",
    "assert clicker.read() == 2, 'após dois cliques a contagem deve ser igual a dois'\n",
    "clicker.reset()\n",
    "assert clicker.read() == 0, 'após reset contagem deve ser igual a zero'\n",
    "\n",
    "# Com esses testes confirmamos que o código funciona da forma que foi projetado\n",
    "\n",
    "# Podemos ter uma subclasse que herda algumas funcionalidades da classe pai\n",
    "# por exemplo um contador sem a função reset\n",
    "\n",
    "class NoResetClicker(CountingClicker):\n",
    "    # classe tem os mesmos métodos da classe pai\n",
    "    def reset(self):\n",
    "        pass # mas o reset não faz nada\n",
    "\n",
    "clicker2 = NoResetClicker()\n",
    "assert clicker2.read() == 0, 'contagem deve começar no zero'\n",
    "clicker2.click()\n",
    "assert clicker2.read() == 1, 'após um clique o contador deve ser igual a 1'\n",
    "clicker2.reset()\n",
    "assert clicker2.read() == 1, 'reset n deveria fazer nada'"
   ]
  },
  {
   "cell_type": "markdown",
   "metadata": {},
   "source": [
    "12) Iteráiveis e Geradores"
   ]
  },
  {
   "cell_type": "code",
   "execution_count": 35,
   "metadata": {},
   "outputs": [
    {
     "name": "stdout",
     "output_type": "stream",
     "text": [
      "i = 0\n",
      "i = 1\n",
      "i = 2\n",
      "i = 3\n",
      "i = 4\n",
      "i = 5\n",
      "i = 6\n",
      "i = 7\n",
      "i = 8\n",
      "i = 9\n"
     ]
    }
   ],
   "source": [
    "# É Possível criar geradores usando funções e o operador \"yield\"\n",
    "\n",
    "def gerador_range(n):\n",
    "    i = 0\n",
    "    while i<n:\n",
    "        yield i # cada iteração o yield reproduz o valor do gerador\n",
    "        i += 1\n",
    "\n",
    "for i in gerador_range(10):\n",
    "    print(f'i = {i}')\n",
    "\n",
    "# Também podemos criar geradores usando list comnprehention\n",
    "\n",
    "pares_menores_que_20 = (i for i in gerador_range(20) if i % 2 == 0)\n",
    "\n",
    "# esse gerador n faz nada até uma iteração ser realizada"
   ]
  },
  {
   "cell_type": "code",
   "execution_count": 36,
   "metadata": {},
   "outputs": [
    {
     "name": "stdout",
     "output_type": "stream",
     "text": [
      "Nome 0 é Aragorn \n",
      "Nome 1 é Frodo \n",
      "Nome 2 é Gandalf \n",
      "Nome 3 é Legolas \n"
     ]
    }
   ],
   "source": [
    "# Geralmente quando iteramos uma lista ou gerador, queremos tanto a informação \n",
    "# armazenada quanto o índice, para isso usamos o \"enumerate\"\n",
    "\n",
    "nomes = ['Aragorn', 'Frodo', 'Gandalf', 'Legolas']\n",
    "\n",
    "for i, nome in enumerate(nomes):\n",
    "    print(f'Nome {i} é {nome} ')\n",
    "\n"
   ]
  },
  {
   "cell_type": "markdown",
   "metadata": {},
   "source": [
    "13) Aleatoriedade"
   ]
  },
  {
   "cell_type": "code",
   "execution_count": 19,
   "metadata": {},
   "outputs": [
    {
     "name": "stdout",
     "output_type": "stream",
     "text": [
      "[0.6768485398499744, 0.7609477375418205, 0.9522444552911937, 0.926506623785866]\n"
     ]
    }
   ],
   "source": [
    "# Podemos geara números (pseudo) aleatórios com o módulo Random\n",
    "import random\n",
    "\n",
    "quatro_num_aleatorios = [random.random() for _ in range(4)]\n",
    "\n",
    "print(quatro_num_aleatorios) # gera números aleatórios uniformemmente entre 0 e 1"
   ]
  },
  {
   "cell_type": "code",
   "execution_count": 4,
   "metadata": {},
   "outputs": [
    {
     "name": "stdout",
     "output_type": "stream",
     "text": [
      "0.13436424411240122\n",
      "0.13436424411240122\n"
     ]
    }
   ],
   "source": [
    "# podemos fixar a \"aleatoriedade\" com uma seed\n",
    "\n",
    "random.seed(1)\n",
    "print(random.random())\n",
    "random.seed(1)\n",
    "print(random.random()) "
   ]
  },
  {
   "cell_type": "code",
   "execution_count": 6,
   "metadata": {},
   "outputs": [
    {
     "name": "stdout",
     "output_type": "stream",
     "text": [
      "4\n",
      "3\n"
     ]
    }
   ],
   "source": [
    "# O método randrange aceita 2 argumentos e retorna um número aleatório dentro do intervalo\n",
    "\n",
    "print(random.randrange(10)) # número aleatório entre 0 e 9\n",
    "print(random.randrange(3,6)) # número aleatório entre [3,4,5]"
   ]
  },
  {
   "cell_type": "code",
   "execution_count": 8,
   "metadata": {},
   "outputs": [
    {
     "name": "stdout",
     "output_type": "stream",
     "text": [
      "[10, 3, 4, 8, 1, 5, 2, 7, 0, 9, 6]\n"
     ]
    }
   ],
   "source": [
    "# Outro método importante é o \"Shuffle\" que reordena aleatoriamente elementos de uma lista\n",
    "\n",
    "n = [0, 1, 2, 3, 4, 5, 6, 7, 8, 9, 10]\n",
    "random.shuffle(n)\n",
    "print(n)"
   ]
  },
  {
   "cell_type": "code",
   "execution_count": 14,
   "metadata": {},
   "outputs": [
    {
     "name": "stdout",
     "output_type": "stream",
     "text": [
      "2\n"
     ]
    }
   ],
   "source": [
    "# \"Choice\" permite escolher aleatoriamente um elemento da lista\n",
    "\n",
    "print(random.choice(n))"
   ]
  },
  {
   "cell_type": "code",
   "execution_count": 16,
   "metadata": {},
   "outputs": [
    {
     "name": "stdout",
     "output_type": "stream",
     "text": [
      "[43, 13, 27, 46, 1]\n"
     ]
    }
   ],
   "source": [
    "# Para escolher aleatoriamente uma amostra de elementos de uma lista (sem reposição e repetição)\n",
    "# usamos o método \"Sample\"\n",
    "\n",
    "p = range(60)\n",
    "print(random.sample(p, 5)) # escolhendo aleatoriamente 5 elementos de p"
   ]
  },
  {
   "cell_type": "code",
   "execution_count": 20,
   "metadata": {},
   "outputs": [
    {
     "name": "stdout",
     "output_type": "stream",
     "text": [
      "[6, 8, 1, 2]\n"
     ]
    }
   ],
   "source": [
    "# Para escolher uma amostra (com repetição e possível repetição) podemos usar o método \"choice\"\n",
    "\n",
    "w = [random.choice(range(10)) for _ in range(4)]\n",
    "print(w)"
   ]
  },
  {
   "attachments": {},
   "cell_type": "markdown",
   "metadata": {},
   "source": [
    "14) Zip e Descompactação de Argumento"
   ]
  },
  {
   "cell_type": "code",
   "execution_count": 22,
   "metadata": {},
   "outputs": [
    {
     "data": {
      "text/plain": [
       "[(1, 'a'), (2, 'b'), (3, 'c')]"
      ]
     },
     "execution_count": 22,
     "metadata": {},
     "output_type": "execute_result"
    }
   ],
   "source": [
    "# Muitas vezes teremos que compactar (zipar) uma ou mais listas\n",
    "# Zip transforma vários iteráveis em um só iterável de tuplas\n",
    "\n",
    "lista1 = [1, 2, 3]\n",
    "lista2 = ['a', 'b', 'c']\n",
    "\n",
    "[par for par in zip(lista1,lista2)]\n",
    "\n",
    "# Para listas de tamanhos diferentes o zip para ao final da primeira"
   ]
  },
  {
   "cell_type": "code",
   "execution_count": 25,
   "metadata": {},
   "outputs": [
    {
     "name": "stdout",
     "output_type": "stream",
     "text": [
      "('a', 'b', 'c') (1, 2, 3)\n"
     ]
    }
   ],
   "source": [
    "# É possível extrair  uma lista da seguinte forma:\n",
    "\n",
    "pares = [('a', 1), ('b', 2), ('c', 3)]\n",
    "\n",
    "letra, num = zip(*pares)\n",
    "\n",
    "print(letra, num) # \"*\" executa uma descompactação de argumento"
   ]
  },
  {
   "attachments": {},
   "cell_type": "markdown",
   "metadata": {},
   "source": [
    "15) Args e Kwargs"
   ]
  },
  {
   "cell_type": "code",
   "execution_count": 33,
   "metadata": {},
   "outputs": [
    {
     "name": "stdout",
     "output_type": "stream",
     "text": [
      "g recebe apenas um argumento\n"
     ]
    }
   ],
   "source": [
    "# Suponha uma função que recebe como argumento uma função f e retorna duas\n",
    "# vezes o valor de f para qualquer entrada\n",
    "\n",
    "def double(f):\n",
    "    def g(x):\n",
    "        return 2*f(x)\n",
    "    return g\n",
    "\n",
    "# isso funciona em alguns casos\n",
    "\n",
    "def f1(x):\n",
    "    return x+1\n",
    "\n",
    "g = double(f1)\n",
    "\n",
    "assert g(3) == 8, \"(3+1)*2 = 8\"\n",
    "\n",
    "# No entanto isto não funciona com funções que recebem mais de um argumento\n",
    "\n",
    "def f2(x, y):\n",
    "    return x+y\n",
    "\n",
    "g2 = double(f2)\n",
    "\n",
    "try:\n",
    "    g(1,2)\n",
    "except TypeError:\n",
    "    print('g recebe apenas um argumento')"
   ]
  },
  {
   "cell_type": "code",
   "execution_count": 34,
   "metadata": {},
   "outputs": [
    {
     "name": "stdout",
     "output_type": "stream",
     "text": [
      "args sem nome: (1, 2)\n",
      "kwargs sem nome: {'key1': 'word1', 'key2': 'word2'}\n"
     ]
    }
   ],
   "source": [
    "# Para isso, é necessário criar uma função que receba um número arbitrário\n",
    "# de argumentos\n",
    "\n",
    "def teste(*args, **kwargs):\n",
    "    print(\"args sem nome:\", args)\n",
    "    print(\"kwargs sem nome:\", kwargs)\n",
    "\n",
    "teste(1, 2, key1='word1', key2='word2')\n",
    "\n",
    "# Args é uma tupla dos argumentos sem nome e Kwargs é um dict dos \n",
    "# argumentos nomeados"
   ]
  },
  {
   "cell_type": "code",
   "execution_count": 36,
   "metadata": {},
   "outputs": [],
   "source": [
    "# Corrigindo o problema anterior\n",
    "\n",
    "def correct_double(f):\n",
    "    def g(*args,**kwargs):\n",
    "        return 2*f(*args,**kwargs)\n",
    "    return g\n",
    "\n",
    "g = correct_double(f2)\n",
    "\n",
    "assert g(1,2) == 6, 'agr deveria funcionar'"
   ]
  }
 ],
 "metadata": {
  "kernelspec": {
   "display_name": "Python 3.10.4 ('venv': venv)",
   "language": "python",
   "name": "python3"
  },
  "language_info": {
   "codemirror_mode": {
    "name": "ipython",
    "version": 3
   },
   "file_extension": ".py",
   "mimetype": "text/x-python",
   "name": "python",
   "nbconvert_exporter": "python",
   "pygments_lexer": "ipython3",
   "version": "3.10.4 (tags/v3.10.4:9d38120, Mar 23 2022, 23:13:41) [MSC v.1929 64 bit (AMD64)]"
  },
  "orig_nbformat": 4,
  "vscode": {
   "interpreter": {
    "hash": "4d283c5c65ee9085d77219e6c4d77d1decf4f15392fb12dfd10f1ee26c57e2d8"
   }
  }
 },
 "nbformat": 4,
 "nbformat_minor": 2
}
