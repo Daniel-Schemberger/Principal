{
 "cells": [
  {
   "cell_type": "markdown",
   "metadata": {},
   "source": [
    "O seguinte trabalho se baseia na aplicação de Gradient Descent para otimização de parâmetros de um modelo de Linear Regression."
   ]
  },
  {
   "cell_type": "markdown",
   "metadata": {},
   "source": [
    "* Linear Regression:"
   ]
  },
  {
   "cell_type": "markdown",
   "metadata": {},
   "source": [
    "LR é um algorítmo de aprendizagem de máquina de regressão que aprende através da combinação linear das features do input.\n",
    "\n",
    "Dado um conjunto de exemplos com label:"
   ]
  },
  {
   "cell_type": "markdown",
   "metadata": {},
   "source": [
    "${(\\vec{x_i},y_i)}_{i=1}^{N}$"
   ]
  },
  {
   "cell_type": "markdown",
   "metadata": {},
   "source": [
    "Onde o vetor $\\vec{x_{i}}$ representa a feature da linha $i$ e $y_{i}$ sua respectiva label.\n",
    "\n",
    "$N$ representa o tamanho da coleção (número de linhas)."
   ]
  },
  {
   "cell_type": "markdown",
   "metadata": {},
   "source": [
    "* Objetivo:"
   ]
  },
  {
   "cell_type": "markdown",
   "metadata": {},
   "source": [
    "Construir uma função $f_{\\vec{w},b}(\\vec{x})$ como uma combinação linear de $\\vec{x}$:"
   ]
  },
  {
   "cell_type": "markdown",
   "metadata": {},
   "source": [
    "$f_{\\vec{w},b}(\\vec{x}) = \\vec{w}.\\vec{x} + b$"
   ]
  },
  {
   "cell_type": "markdown",
   "metadata": {},
   "source": [
    "Onde $\\vec{w}$ é um vetor de mesma dimensão da feature e $b$ é um número real."
   ]
  },
  {
   "cell_type": "markdown",
   "metadata": {},
   "source": [
    "A label $y_{i}$ recebe o valor de $f_{\\vec{w},b}(\\vec{x_{i}})$ como sua previsão. Para a previsão do modelo ser precisa é necessário otimizar os valores dos parâmetros $(\\vec{w},b)$. O valor otimizado destes parâmetros é determinado minimizando a seguinte função ($S$):"
   ]
  },
  {
   "cell_type": "markdown",
   "metadata": {},
   "source": [
    "$S = \\dfrac{1}{N}\\sum_{i=1}^{N}[y_i - f_{\\vec{w},b}(\\vec{x})]^2$"
   ]
  },
  {
   "cell_type": "markdown",
   "metadata": {},
   "source": [
    "E esta otimização pode ser realizada através de Gradient Descent."
   ]
  },
  {
   "cell_type": "markdown",
   "metadata": {},
   "source": [
    "* Gradient Descent:"
   ]
  },
  {
   "cell_type": "markdown",
   "metadata": {},
   "source": [
    "Método de otimização de algorítmos para determinar o mínimo de uma função."
   ]
  },
  {
   "cell_type": "markdown",
   "metadata": {},
   "source": [
    "Inicialmente, toma-se a derivada parcial da função ($S$) em relação aos parâmetros a serem otimizado:"
   ]
  },
  {
   "cell_type": "markdown",
   "metadata": {},
   "source": [
    "$\\dfrac{\\partial S}{\\partial w} = \\dfrac{1}{N}\\sum_{i=1}^{N}-2x_{i}[y_i - (wx_{i}+b)]$"
   ]
  },
  {
   "cell_type": "markdown",
   "metadata": {},
   "source": [
    "$\\dfrac{\\partial S}{\\partial b} = \\dfrac{1}{N}\\sum_{i=1}^{N}-2[y_i - (wx_{i}+b)]$"
   ]
  },
  {
   "cell_type": "markdown",
   "metadata": {},
   "source": [
    "Em seguida os dados de treino são utilizados para atualizar o conjunto de parâmetros:"
   ]
  },
  {
   "cell_type": "markdown",
   "metadata": {},
   "source": [
    "$w\\leftarrow w -\\alpha \\dfrac{\\partial S}{\\partial w}$"
   ]
  },
  {
   "cell_type": "markdown",
   "metadata": {},
   "source": [
    "$b \\leftarrow b -\\alpha \\dfrac{\\partial S}{\\partial b}$"
   ]
  },
  {
   "cell_type": "markdown",
   "metadata": {},
   "source": [
    "Partindo de $w=0$ e $b=0$. $\\alpha$ é um hiperparâmetro do modelo que dita o quão rápido é a aprendizagem de atualização dos parâmetros a cada epoch.\n",
    "\n",
    "O procedimento é repetido até a convergencia de $(\\vec{w},b)$ para os valores otimizados $(\\vec{w}^*,b^*)$."
   ]
  },
  {
   "cell_type": "markdown",
   "metadata": {},
   "source": [
    "* Aplicando o Gradient Descent:"
   ]
  },
  {
   "cell_type": "markdown",
   "metadata": {},
   "source": [
    "Importando um dataset para aplicar o método:"
   ]
  },
  {
   "cell_type": "code",
   "execution_count": 70,
   "metadata": {},
   "outputs": [],
   "source": [
    "import pandas as pd\n",
    "\n",
    "data = pd.read_csv('Advertising.csv')"
   ]
  },
  {
   "cell_type": "code",
   "execution_count": 71,
   "metadata": {},
   "outputs": [
    {
     "data": {
      "text/html": [
       "<div>\n",
       "<style scoped>\n",
       "    .dataframe tbody tr th:only-of-type {\n",
       "        vertical-align: middle;\n",
       "    }\n",
       "\n",
       "    .dataframe tbody tr th {\n",
       "        vertical-align: top;\n",
       "    }\n",
       "\n",
       "    .dataframe thead th {\n",
       "        text-align: right;\n",
       "    }\n",
       "</style>\n",
       "<table border=\"1\" class=\"dataframe\">\n",
       "  <thead>\n",
       "    <tr style=\"text-align: right;\">\n",
       "      <th></th>\n",
       "      <th>Unnamed: 0</th>\n",
       "      <th>TV</th>\n",
       "      <th>radio</th>\n",
       "      <th>newspaper</th>\n",
       "      <th>sales</th>\n",
       "    </tr>\n",
       "  </thead>\n",
       "  <tbody>\n",
       "    <tr>\n",
       "      <th>0</th>\n",
       "      <td>1</td>\n",
       "      <td>230.1</td>\n",
       "      <td>37.8</td>\n",
       "      <td>69.2</td>\n",
       "      <td>22.1</td>\n",
       "    </tr>\n",
       "    <tr>\n",
       "      <th>1</th>\n",
       "      <td>2</td>\n",
       "      <td>44.5</td>\n",
       "      <td>39.3</td>\n",
       "      <td>45.1</td>\n",
       "      <td>10.4</td>\n",
       "    </tr>\n",
       "    <tr>\n",
       "      <th>2</th>\n",
       "      <td>3</td>\n",
       "      <td>17.2</td>\n",
       "      <td>45.9</td>\n",
       "      <td>69.3</td>\n",
       "      <td>9.3</td>\n",
       "    </tr>\n",
       "    <tr>\n",
       "      <th>3</th>\n",
       "      <td>4</td>\n",
       "      <td>151.5</td>\n",
       "      <td>41.3</td>\n",
       "      <td>58.5</td>\n",
       "      <td>18.5</td>\n",
       "    </tr>\n",
       "    <tr>\n",
       "      <th>4</th>\n",
       "      <td>5</td>\n",
       "      <td>180.8</td>\n",
       "      <td>10.8</td>\n",
       "      <td>58.4</td>\n",
       "      <td>12.9</td>\n",
       "    </tr>\n",
       "  </tbody>\n",
       "</table>\n",
       "</div>"
      ],
      "text/plain": [
       "   Unnamed: 0     TV  radio  newspaper  sales\n",
       "0           1  230.1   37.8       69.2   22.1\n",
       "1           2   44.5   39.3       45.1   10.4\n",
       "2           3   17.2   45.9       69.3    9.3\n",
       "3           4  151.5   41.3       58.5   18.5\n",
       "4           5  180.8   10.8       58.4   12.9"
      ]
     },
     "execution_count": 71,
     "metadata": {},
     "output_type": "execute_result"
    }
   ],
   "source": [
    "data.head()"
   ]
  },
  {
   "cell_type": "markdown",
   "metadata": {},
   "source": [
    "Para simplificar o problema, utilizaremos uma unica feature (radio) para prever a label 'sales':"
   ]
  },
  {
   "cell_type": "code",
   "execution_count": 72,
   "metadata": {},
   "outputs": [],
   "source": [
    "x = data['radio']\n",
    "y = data['sales']"
   ]
  },
  {
   "cell_type": "markdown",
   "metadata": {},
   "source": [
    "* Código para o Gradient Descent:"
   ]
  },
  {
   "cell_type": "markdown",
   "metadata": {},
   "source": [
    "Função para atualizar o valor dos parâmetros:"
   ]
  },
  {
   "cell_type": "code",
   "execution_count": 73,
   "metadata": {},
   "outputs": [],
   "source": [
    "def update_wb(x, y, w, b, alpha):\n",
    "\n",
    "    # Valores iniciais de w e b e numero de linhas do dataset:\n",
    "    dS_dw = 0\n",
    "    dS_db = 0\n",
    "    N = len(x)\n",
    "\n",
    "    # Iterando o gradiente por todas as linhas do dataset:\n",
    "\n",
    "    for i in range(N):\n",
    "        dS_dw += -2*(x[i]*y[i]-(w*x[i]+b))\n",
    "        dS_db += -2*(y[i]-(w*x[i]+b))\n",
    "\n",
    "    # atualização dos parâmetros:\n",
    "        \n",
    "    w = w - (1/float(N))*alpha*dS_dw\n",
    "    b = b - (1/float(N))*alpha*dS_db\n",
    "\n",
    "    return w, b"
   ]
  },
  {
   "cell_type": "markdown",
   "metadata": {},
   "source": [
    "Função para calcular o erro médio:"
   ]
  },
  {
   "cell_type": "code",
   "execution_count": 74,
   "metadata": {},
   "outputs": [],
   "source": [
    "def err_med(x, y, w, b):\n",
    "    N = len(x)\n",
    "    erro = 0\n",
    "\n",
    "    for i in range(N):\n",
    "        erro += (y[i] - (w*x[i]+b))**2\n",
    "\n",
    "    return erro/float(N)"
   ]
  },
  {
   "cell_type": "markdown",
   "metadata": {},
   "source": [
    "Fazendo um loop sobre multiplos epochs:"
   ]
  },
  {
   "cell_type": "code",
   "execution_count": 75,
   "metadata": {},
   "outputs": [],
   "source": [
    "def treino(x, y, w, b, alpha, epochs):\n",
    "\n",
    "    # faz \"e\" epochs da atualização dos parâmetros:\n",
    "    for e in range(epochs):\n",
    "        w, b = update_wb(x, y, w, b, alpha)\n",
    "\n",
    "        # retorna um log do número de epochs e os respectivos erros:\n",
    "        # retornando apenas para epochs multiplos de 1000*\n",
    "        if e%1000 == 0:\n",
    "            print(f'epoch: {e}, loss: {err_med(x, y, w, b)}')\n",
    "\n",
    "    return w, b"
   ]
  },
  {
   "cell_type": "markdown",
   "metadata": {},
   "source": [
    "Treino para $\\alpha = 0,001$, $w=0$, $b=0$ e $e=15000$:"
   ]
  },
  {
   "cell_type": "code",
   "execution_count": 76,
   "metadata": {},
   "outputs": [
    {
     "name": "stdout",
     "output_type": "stream",
     "text": [
      "epoch: 0, loss: 92.32078294903626\n"
     ]
    },
    {
     "name": "stdout",
     "output_type": "stream",
     "text": [
      "epoch: 1000, loss: 25.9534763777287\n",
      "epoch: 2000, loss: 20.57459375662496\n",
      "epoch: 3000, loss: 18.876170218021276\n",
      "epoch: 4000, loss: 18.33987992881413\n",
      "epoch: 5000, loss: 18.17054214718263\n",
      "epoch: 6000, loss: 18.117072440822145\n",
      "epoch: 7000, loss: 18.100188969982213\n",
      "epoch: 8000, loss: 18.094857884270205\n",
      "epoch: 9000, loss: 18.0931745529731\n",
      "epoch: 10000, loss: 18.09264302817517\n",
      "epoch: 11000, loss: 18.092475195134053\n",
      "epoch: 12000, loss: 18.092422200561078\n",
      "epoch: 13000, loss: 18.092405467117242\n",
      "epoch: 14000, loss: 18.092400183403708\n"
     ]
    },
    {
     "data": {
      "text/plain": [
       "(0.20254581129464883, 9.310003218435126)"
      ]
     },
     "execution_count": 76,
     "metadata": {},
     "output_type": "execute_result"
    }
   ],
   "source": [
    "treino(x,y,0,0,0.001,15000)"
   ]
  },
  {
   "cell_type": "markdown",
   "metadata": {},
   "source": [
    "Agora conhecendo os valores optimizados $(\\vec{w}^*,b^*)$, podemos utlilizar o modelo ($f_{\\vec{w},b}(\\vec{x_{i}})$) para prever o valor da label {$y_i$} dada feature {$x_i$}:"
   ]
  },
  {
   "cell_type": "code",
   "execution_count": 77,
   "metadata": {},
   "outputs": [],
   "source": [
    "def prev(x, w, b):\n",
    "    return w*x +b"
   ]
  },
  {
   "cell_type": "code",
   "execution_count": 78,
   "metadata": {},
   "outputs": [
    {
     "name": "stdout",
     "output_type": "stream",
     "text": [
      "epoch: 0, loss: 92.32078294903626\n",
      "epoch: 1000, loss: 25.9534763777287\n",
      "epoch: 2000, loss: 20.57459375662496\n",
      "epoch: 3000, loss: 18.876170218021276\n",
      "epoch: 4000, loss: 18.33987992881413\n",
      "epoch: 5000, loss: 18.17054214718263\n",
      "epoch: 6000, loss: 18.117072440822145\n",
      "epoch: 7000, loss: 18.100188969982213\n",
      "epoch: 8000, loss: 18.094857884270205\n",
      "epoch: 9000, loss: 18.0931745529731\n",
      "epoch: 10000, loss: 18.09264302817517\n",
      "epoch: 11000, loss: 18.092475195134053\n",
      "epoch: 12000, loss: 18.092422200561078\n",
      "epoch: 13000, loss: 18.092405467117242\n",
      "epoch: 14000, loss: 18.092400183403708\n"
     ]
    }
   ],
   "source": [
    "w, b = treino(x, y, 0, 0, 0.001, 15000)\n",
    "\n",
    "x_teste = 23\n",
    "\n",
    "y_teste = prev(x_teste, w, b)"
   ]
  },
  {
   "cell_type": "code",
   "execution_count": 79,
   "metadata": {},
   "outputs": [
    {
     "name": "stdout",
     "output_type": "stream",
     "text": [
      "Valor previsto para a label: 13.97\n"
     ]
    }
   ],
   "source": [
    "print(f'Valor previsto para a label: {round(y_teste, 2)}')"
   ]
  }
 ],
 "metadata": {
  "kernelspec": {
   "display_name": "Python 3",
   "language": "python",
   "name": "python3"
  },
  "language_info": {
   "codemirror_mode": {
    "name": "ipython",
    "version": 3
   },
   "file_extension": ".py",
   "mimetype": "text/x-python",
   "name": "python",
   "nbconvert_exporter": "python",
   "pygments_lexer": "ipython3",
   "version": "3.12.1"
  }
 },
 "nbformat": 4,
 "nbformat_minor": 2
}
