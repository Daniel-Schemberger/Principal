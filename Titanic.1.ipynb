{
 "cells": [
  {
   "cell_type": "markdown",
   "metadata": {},
   "source": [
    "Bibliotecas:"
   ]
  },
  {
   "cell_type": "code",
   "execution_count": 1,
   "metadata": {},
   "outputs": [],
   "source": [
    "import pandas as pd\n",
    "import numpy as np\n",
    "import matplotlib.pyplot as plt\n",
    "import seaborn as sns\n",
    "from sklearn.model_selection import train_test_split\n",
    "from sklearn.compose import ColumnTransformer\n",
    "from sklearn.pipeline import Pipeline\n",
    "from sklearn.impute import SimpleImputer\n",
    "from sklearn.preprocessing import OneHotEncoder\n",
    "from sklearn.metrics import mean_absolute_error\n",
    "from xgboost import XGBClassifier\n",
    "from sklearn.linear_model import LogisticRegression\n",
    "from sklearn.ensemble import RandomForestClassifier"
   ]
  },
  {
   "cell_type": "markdown",
   "metadata": {},
   "source": [
    "Exportação dos dados:"
   ]
  },
  {
   "cell_type": "code",
   "execution_count": 2,
   "metadata": {},
   "outputs": [
    {
     "data": {
      "text/html": [
       "<div>\n",
       "<style scoped>\n",
       "    .dataframe tbody tr th:only-of-type {\n",
       "        vertical-align: middle;\n",
       "    }\n",
       "\n",
       "    .dataframe tbody tr th {\n",
       "        vertical-align: top;\n",
       "    }\n",
       "\n",
       "    .dataframe thead th {\n",
       "        text-align: right;\n",
       "    }\n",
       "</style>\n",
       "<table border=\"1\" class=\"dataframe\">\n",
       "  <thead>\n",
       "    <tr style=\"text-align: right;\">\n",
       "      <th></th>\n",
       "      <th>PassengerId</th>\n",
       "      <th>Survived</th>\n",
       "      <th>Pclass</th>\n",
       "      <th>Name</th>\n",
       "      <th>Sex</th>\n",
       "      <th>Age</th>\n",
       "      <th>SibSp</th>\n",
       "      <th>Parch</th>\n",
       "      <th>Ticket</th>\n",
       "      <th>Fare</th>\n",
       "      <th>Cabin</th>\n",
       "      <th>Embarked</th>\n",
       "    </tr>\n",
       "  </thead>\n",
       "  <tbody>\n",
       "    <tr>\n",
       "      <th>0</th>\n",
       "      <td>1</td>\n",
       "      <td>0</td>\n",
       "      <td>3</td>\n",
       "      <td>Braund, Mr. Owen Harris</td>\n",
       "      <td>male</td>\n",
       "      <td>22.0</td>\n",
       "      <td>1</td>\n",
       "      <td>0</td>\n",
       "      <td>A/5 21171</td>\n",
       "      <td>7.2500</td>\n",
       "      <td>NaN</td>\n",
       "      <td>S</td>\n",
       "    </tr>\n",
       "    <tr>\n",
       "      <th>1</th>\n",
       "      <td>2</td>\n",
       "      <td>1</td>\n",
       "      <td>1</td>\n",
       "      <td>Cumings, Mrs. John Bradley (Florence Briggs Th...</td>\n",
       "      <td>female</td>\n",
       "      <td>38.0</td>\n",
       "      <td>1</td>\n",
       "      <td>0</td>\n",
       "      <td>PC 17599</td>\n",
       "      <td>71.2833</td>\n",
       "      <td>C85</td>\n",
       "      <td>C</td>\n",
       "    </tr>\n",
       "    <tr>\n",
       "      <th>2</th>\n",
       "      <td>3</td>\n",
       "      <td>1</td>\n",
       "      <td>3</td>\n",
       "      <td>Heikkinen, Miss. Laina</td>\n",
       "      <td>female</td>\n",
       "      <td>26.0</td>\n",
       "      <td>0</td>\n",
       "      <td>0</td>\n",
       "      <td>STON/O2. 3101282</td>\n",
       "      <td>7.9250</td>\n",
       "      <td>NaN</td>\n",
       "      <td>S</td>\n",
       "    </tr>\n",
       "    <tr>\n",
       "      <th>3</th>\n",
       "      <td>4</td>\n",
       "      <td>1</td>\n",
       "      <td>1</td>\n",
       "      <td>Futrelle, Mrs. Jacques Heath (Lily May Peel)</td>\n",
       "      <td>female</td>\n",
       "      <td>35.0</td>\n",
       "      <td>1</td>\n",
       "      <td>0</td>\n",
       "      <td>113803</td>\n",
       "      <td>53.1000</td>\n",
       "      <td>C123</td>\n",
       "      <td>S</td>\n",
       "    </tr>\n",
       "    <tr>\n",
       "      <th>4</th>\n",
       "      <td>5</td>\n",
       "      <td>0</td>\n",
       "      <td>3</td>\n",
       "      <td>Allen, Mr. William Henry</td>\n",
       "      <td>male</td>\n",
       "      <td>35.0</td>\n",
       "      <td>0</td>\n",
       "      <td>0</td>\n",
       "      <td>373450</td>\n",
       "      <td>8.0500</td>\n",
       "      <td>NaN</td>\n",
       "      <td>S</td>\n",
       "    </tr>\n",
       "  </tbody>\n",
       "</table>\n",
       "</div>"
      ],
      "text/plain": [
       "   PassengerId  Survived  Pclass  \\\n",
       "0            1         0       3   \n",
       "1            2         1       1   \n",
       "2            3         1       3   \n",
       "3            4         1       1   \n",
       "4            5         0       3   \n",
       "\n",
       "                                                Name     Sex   Age  SibSp  \\\n",
       "0                            Braund, Mr. Owen Harris    male  22.0      1   \n",
       "1  Cumings, Mrs. John Bradley (Florence Briggs Th...  female  38.0      1   \n",
       "2                             Heikkinen, Miss. Laina  female  26.0      0   \n",
       "3       Futrelle, Mrs. Jacques Heath (Lily May Peel)  female  35.0      1   \n",
       "4                           Allen, Mr. William Henry    male  35.0      0   \n",
       "\n",
       "   Parch            Ticket     Fare Cabin Embarked  \n",
       "0      0         A/5 21171   7.2500   NaN        S  \n",
       "1      0          PC 17599  71.2833   C85        C  \n",
       "2      0  STON/O2. 3101282   7.9250   NaN        S  \n",
       "3      0            113803  53.1000  C123        S  \n",
       "4      0            373450   8.0500   NaN        S  "
      ]
     },
     "execution_count": 2,
     "metadata": {},
     "output_type": "execute_result"
    }
   ],
   "source": [
    "path_teste = r'C:\\Users\\T-Gamer\\Desktop\\Python_Estudo\\Curso_analise_de_dados\\Titanic\\test.csv'\n",
    "path_treino = r'C:\\Users\\T-Gamer\\Desktop\\Python_Estudo\\Curso_analise_de_dados\\Titanic\\train.csv'\n",
    "\n",
    "teste = pd.read_csv(path_teste)\n",
    "treino = pd.read_csv(path_treino)\n",
    "\n",
    "treino.head()"
   ]
  },
  {
   "cell_type": "markdown",
   "metadata": {},
   "source": [
    "Informações básicas sobre o dataset:"
   ]
  },
  {
   "cell_type": "code",
   "execution_count": 3,
   "metadata": {},
   "outputs": [
    {
     "name": "stdout",
     "output_type": "stream",
     "text": [
      "<class 'pandas.core.frame.DataFrame'>\n",
      "RangeIndex: 891 entries, 0 to 890\n",
      "Data columns (total 12 columns):\n",
      " #   Column       Non-Null Count  Dtype  \n",
      "---  ------       --------------  -----  \n",
      " 0   PassengerId  891 non-null    int64  \n",
      " 1   Survived     891 non-null    int64  \n",
      " 2   Pclass       891 non-null    int64  \n",
      " 3   Name         891 non-null    object \n",
      " 4   Sex          891 non-null    object \n",
      " 5   Age          714 non-null    float64\n",
      " 6   SibSp        891 non-null    int64  \n",
      " 7   Parch        891 non-null    int64  \n",
      " 8   Ticket       891 non-null    object \n",
      " 9   Fare         891 non-null    float64\n",
      " 10  Cabin        204 non-null    object \n",
      " 11  Embarked     889 non-null    object \n",
      "dtypes: float64(2), int64(5), object(5)\n",
      "memory usage: 83.7+ KB\n"
     ]
    }
   ],
   "source": [
    "treino.info()"
   ]
  },
  {
   "cell_type": "code",
   "execution_count": 4,
   "metadata": {},
   "outputs": [
    {
     "data": {
      "text/plain": [
       "<AxesSubplot:>"
      ]
     },
     "execution_count": 4,
     "metadata": {},
     "output_type": "execute_result"
    },
    {
     "data": {
      "image/png": "[encoded data removed]",
      "text/plain": [
       "<Figure size 432x288 with 2 Axes>"
      ]
     },
     "metadata": {
      "needs_background": "light"
     },
     "output_type": "display_data"
    }
   ],
   "source": [
    "treino.columns\n",
    "\n",
    "cor = treino.corr()\n",
    "sns.heatmap(data=cor)"
   ]
  },
  {
   "cell_type": "markdown",
   "metadata": {},
   "source": [
    "Definindo novas colunas para algumas variáveis categóricas:"
   ]
  },
  {
   "cell_type": "code",
   "execution_count": 5,
   "metadata": {},
   "outputs": [],
   "source": [
    "treino['Embarked_C'] = (treino['Embarked'] == 'C').astype(int)\n",
    "treino['Embarked_S'] = (treino['Embarked'] == 'S').astype(int)\n",
    "\n",
    "treino['Cabin_null'] = (treino['Cabin'].isnull()).astype(int)\n",
    "\n",
    "treino['Name_Mrs'] = treino['Name'].str.contains('Mrs').astype(int)\n",
    "treino['Name_Master'] = treino['Name'].str.contains('Master').astype(int)\n",
    "treino['Name_Mr'] = treino['Name'].str.contains('Mr').astype(int)\n",
    "treino['Name_Miss'] = treino['Name'].str.contains('Miss').astype(int)"
   ]
  },
  {
   "cell_type": "markdown",
   "metadata": {},
   "source": [
    "Separando os dados:"
   ]
  },
  {
   "cell_type": "code",
   "execution_count": 6,
   "metadata": {},
   "outputs": [
    {
     "name": "stdout",
     "output_type": "stream",
     "text": [
      "(712, 18) (179, 18)\n"
     ]
    }
   ],
   "source": [
    "y = treino['Survived']\n",
    "X = treino.drop('Survived', axis=1)\n",
    "\n",
    "X_train, X_valid, y_train, y_valid = train_test_split(X, y, train_size=0.8, test_size=0.2)\n",
    "\n",
    "print(X_train.shape, X_valid.shape)"
   ]
  },
  {
   "cell_type": "markdown",
   "metadata": {},
   "source": [
    "Discriminando variáveis categóricas e numéricas:"
   ]
  },
  {
   "cell_type": "code",
   "execution_count": 7,
   "metadata": {},
   "outputs": [
    {
     "name": "stdout",
     "output_type": "stream",
     "text": [
      "Colunas de dados numéricos: Index(['PassengerId', 'Pclass', 'Age', 'SibSp', 'Parch', 'Fare', 'Embarked_C',\n",
      "       'Embarked_S', 'Cabin_null', 'Name_Mrs', 'Name_Master', 'Name_Mr',\n",
      "       'Name_Miss'],\n",
      "      dtype='object')\n",
      "\n",
      "Colunas de dados categóricos: Index(['Name', 'Sex', 'Ticket', 'Cabin', 'Embarked'], dtype='object')\n"
     ]
    }
   ],
   "source": [
    "num_col = X_train.select_dtypes(exclude='object').columns\n",
    "cat_col = X_train.select_dtypes('object').columns\n",
    "\n",
    "print(f'Colunas de dados numéricos: {num_col}')\n",
    "print()\n",
    "print(f'Colunas de dados categóricos: {cat_col}')"
   ]
  },
  {
   "cell_type": "markdown",
   "metadata": {},
   "source": [
    "Cardinalidade das variáveis categóricas:"
   ]
  },
  {
   "cell_type": "code",
   "execution_count": 8,
   "metadata": {},
   "outputs": [
    {
     "name": "stdout",
     "output_type": "stream",
     "text": [
      "Sex: 2\n",
      "Ticket: 568\n",
      "Cabin: 118\n",
      "Embarked: 3\n"
     ]
    }
   ],
   "source": [
    "c_col = cat_col.drop('Name')\n",
    "\n",
    "for i in list(c_col):\n",
    "    card = X_train[i].nunique()\n",
    "    print(f'{i}: {card}')\n"
   ]
  },
  {
   "cell_type": "markdown",
   "metadata": {},
   "source": [
    "Definindo transformações e os modelos:"
   ]
  },
  {
   "cell_type": "code",
   "execution_count": 9,
   "metadata": {},
   "outputs": [],
   "source": [
    "num_trans = SimpleImputer(strategy='mean')\n",
    "\n",
    "cat_trans = Pipeline(steps=[\n",
    "    ('impt', SimpleImputer(strategy='most_frequent')),\n",
    "    ('ohe', OneHotEncoder(handle_unknown='ignore'))\n",
    "])\n",
    "\n",
    "preprocessor = ColumnTransformer(transformers=[\n",
    "    ('num', num_trans, num_col),\n",
    "    ('cat', cat_trans, c_col)\n",
    "])\n",
    "\n",
    "modelo1 = RandomForestClassifier(n_estimators=25, n_jobs=8, random_state=0)\n",
    "modelo2 = LogisticRegression(random_state=0)\n",
    "modelo3 = XGBClassifier(n_estimators=25, learning_rate=0.5, n_jobs=8, random_state=0)"
   ]
  },
  {
   "cell_type": "markdown",
   "metadata": {},
   "source": [
    "Definindo as pipelines:"
   ]
  },
  {
   "cell_type": "code",
   "execution_count": 10,
   "metadata": {},
   "outputs": [],
   "source": [
    "pipe1 = Pipeline(steps=[\n",
    "    ('prep', preprocessor),\n",
    "    ('mod', modelo1)\n",
    "])\n",
    "\n",
    "pipe2 = Pipeline(steps=[\n",
    "    ('prep', preprocessor),\n",
    "    ('mod', modelo2)\n",
    "])\n",
    "\n",
    "pipe3 = Pipeline(steps=[\n",
    "    ('prep', preprocessor),\n",
    "    ('mod', modelo3)\n",
    "])\n"
   ]
  },
  {
   "cell_type": "markdown",
   "metadata": {},
   "source": [
    "Aplicando as pipelines e visualizando seus respectivos erros médios absolutos:"
   ]
  },
  {
   "cell_type": "code",
   "execution_count": 11,
   "metadata": {},
   "outputs": [
    {
     "name": "stdout",
     "output_type": "stream",
     "text": [
      "Erro médio absoluto:\n",
      "R.F. Classifier: 0.16759776536312848\n",
      "L. Regressor: 0.1564245810055866\n",
      "XGB Classifier: 0.21787709497206703\n"
     ]
    },
    {
     "name": "stderr",
     "output_type": "stream",
     "text": [
      "c:\\Users\\T-Gamer\\AppData\\Local\\Programs\\Python\\Python310\\lib\\site-packages\\sklearn\\linear_model\\_logistic.py:444: ConvergenceWarning: lbfgs failed to converge (status=1):\n",
      "STOP: TOTAL NO. of ITERATIONS REACHED LIMIT.\n",
      "\n",
      "Increase the number of iterations (max_iter) or scale the data as shown in:\n",
      "    https://scikit-learn.org/stable/modules/preprocessing.html\n",
      "Please also refer to the documentation for alternative solver options:\n",
      "    https://scikit-learn.org/stable/modules/linear_model.html#logistic-regression\n",
      "  n_iter_i = _check_optimize_result(\n"
     ]
    }
   ],
   "source": [
    "pipe1.fit(X_train, y_train)\n",
    "pipe2.fit(X_train, y_train)\n",
    "pipe3.fit(X_train, y_train)\n",
    "\n",
    "mae1 = mean_absolute_error(y_valid, pipe1.predict(X_valid))\n",
    "mae2 = mean_absolute_error(y_valid, pipe2.predict(X_valid))\n",
    "mae3 = mean_absolute_error(y_valid, pipe3.predict(X_valid))\n",
    "\n",
    "print(f'Erro médio absoluto:')\n",
    "print(f'R.F. Classifier: {mae1}')\n",
    "print(f'L. Regressor: {mae2}')\n",
    "print(f'XGB Classifier: {mae3}')"
   ]
  },
  {
   "cell_type": "markdown",
   "metadata": {},
   "source": [
    "Implementando as colunas adicionais aos dados teste:"
   ]
  },
  {
   "cell_type": "code",
   "execution_count": 12,
   "metadata": {},
   "outputs": [],
   "source": [
    "\n",
    "teste['Embarked_C'] = (teste['Embarked'] == 'C').astype(int)\n",
    "teste['Embarked_S'] = (teste['Embarked'] == 'S').astype(int)\n",
    "\n",
    "teste['Cabin_null'] = (teste['Cabin'].isnull()).astype(int)\n",
    "\n",
    "teste['Name_Mrs'] = teste['Name'].str.contains('Mrs').astype(int)\n",
    "teste['Name_Master'] = teste['Name'].str.contains('Master').astype(int)\n",
    "teste['Name_Mr'] = teste['Name'].str.contains('Mr').astype(int)\n",
    "teste['Name_Miss'] = teste['Name'].str.contains('Miss').astype(int)"
   ]
  },
  {
   "cell_type": "markdown",
   "metadata": {},
   "source": [
    "Aplicando a pipeline a todo conjunto de dados e prevendo os resultados para os dados teste:"
   ]
  },
  {
   "cell_type": "code",
   "execution_count": 13,
   "metadata": {},
   "outputs": [
    {
     "name": "stdout",
     "output_type": "stream",
     "text": [
      "PassengerId\n",
      "892     0\n",
      "893     0\n",
      "894     0\n",
      "895     0\n",
      "896     0\n",
      "       ..\n",
      "1305    0\n",
      "1306    1\n",
      "1307    0\n",
      "1308    0\n",
      "1309    1\n",
      "Name: Survived, Length: 418, dtype: int64\n"
     ]
    }
   ],
   "source": [
    "pipe1.fit(X,y)\n",
    "\n",
    "p = pipe1.predict(teste)\n",
    "\n",
    "prev = pd.Series(p, index=teste['PassengerId'], name='Survived')\n",
    "prev.to_csv('Pipeline', header=True)\n",
    "\n",
    "print(prev)"
   ]
  },
  {
   "cell_type": "code",
   "execution_count": 16,
   "metadata": {},
   "outputs": [
    {
     "name": "stdout",
     "output_type": "stream",
     "text": [
      "Não sobreviveu :(\n"
     ]
    }
   ],
   "source": [
    "from cmath import nan\n",
    "\n",
    "dados_amigos = {'PassengerId':[1310], 'Pclass':[1] , 'Name':['David'], 'Sex':['male'], 'Age':[29], 'SibSp':[1] , 'Parch':[1] , 'Ticket':[2668], 'Fare':[300], 'Cabin':[nan] , 'Embarked':['C'],\n",
    "                'Embarked_C':[1], 'Embarked_S':[0], 'Cabin_null':[1], 'Name_Mrs':[0] , 'Name_Master':[0] , 'Name_Mr':[0] , 'Name_Miss':[0] }\n",
    "\n",
    "dados = pd.DataFrame(data=dados_amigos)\n",
    "\n",
    "pred = pipe1.predict(dados)\n",
    "if pred == 0:\n",
    "    print('Não sobreviveu :(')\n",
    "else:\n",
    "    print('Sobreviveu :)')"
   ]
  }
 ],
 "metadata": {
  "kernelspec": {
   "display_name": "Python 3.10.4 64-bit",
   "language": "python",
   "name": "python3"
  },
  "language_info": {
   "codemirror_mode": {
    "name": "ipython",
    "version": 3
   },
   "file_extension": ".py",
   "mimetype": "text/x-python",
   "name": "python",
   "nbconvert_exporter": "python",
   "pygments_lexer": "ipython3",
   "version": "3.10.4"
  },
  "orig_nbformat": 4,
  "vscode": {
   "interpreter": {
    "hash": "fb071969cc081d156db4658a52cc12ff3302089485c0c8cb524fcf02c6362775"
   }
  }
 },
 "nbformat": 4,
 "nbformat_minor": 2
}
