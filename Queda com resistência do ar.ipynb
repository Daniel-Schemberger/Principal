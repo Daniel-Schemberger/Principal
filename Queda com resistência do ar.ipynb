{
 "cells": [
  {
   "cell_type": "markdown",
   "metadata": {},
   "source": [
    "Bibliotecas:"
   ]
  },
  {
   "cell_type": "code",
   "execution_count": 2,
   "metadata": {},
   "outputs": [],
   "source": [
    "import numpy as np\n",
    "from scipy.integrate import odeint\n",
    "from sympy import *\n",
    "from sympy import Symbol\n",
    "from matplotlib import pyplot as plt\n",
    "import math"
   ]
  },
  {
   "cell_type": "markdown",
   "metadata": {},
   "source": [
    "Definições de parâmetros e constantes:"
   ]
  },
  {
   "cell_type": "code",
   "execution_count": 13,
   "metadata": {},
   "outputs": [],
   "source": [
    "# Condições iniciais:\n",
    "y0 = float(input('Posição inicial: '))\n",
    "\n",
    "# Parâmetros:\n",
    "c = 0.5 # parâmetro de arraste\n",
    "p = 1   # densidade do meio\n",
    "\n",
    "rb = 2  # raio do corpo\n",
    "m = 5   # massa do corpo\n",
    "A = math.pi*rb**2 # area de sessão transversal\n",
    "\n",
    "G = float(6.6743*10**-11) # constante gravitacional\n",
    "M = float(5.972*10**24)   # massa da Terra\n",
    "rt = 6.371*10**6          # raio da Terra\n",
    "\n",
    "r = rt+y0                 # distância entre o centro da Terra e o corpo\n"
   ]
  },
  {
   "cell_type": "markdown",
   "metadata": {},
   "source": [
    "Função horária da posição (y),\n",
    "\n",
    "aceleração gravidade (g),\n",
    "\n",
    "coeficiente de arraste (k):"
   ]
  },
  {
   "cell_type": "code",
   "execution_count": 14,
   "metadata": {},
   "outputs": [
    {
     "name": "stdout",
     "output_type": "stream",
     "text": [
      "Eq. da posição: -4.908445*t**2 + 50.0*t + 1000.0\n",
      "Aceleração da gravidade: 9.81689\n",
      "Coeficiente de arraste: 0.62832\n"
     ]
    }
   ],
   "source": [
    "t = Symbol('t')\n",
    "\n",
    "g = round((G*M)/r**2,5)\n",
    "k = round(0.5*(c*p*A/m),5)\n",
    "\n",
    "y = y0-0.5*g*t**2\n",
    "\n",
    "print(f'Eq. da posição: {y}')\n",
    "print(f'Aceleração da gravidade: {g}')\n",
    "print(f'Coeficiente de arraste: {k}')"
   ]
  },
  {
   "cell_type": "markdown",
   "metadata": {},
   "source": [
    "Definindo a equação diferencial:"
   ]
  },
  {
   "cell_type": "code",
   "execution_count": 15,
   "metadata": {},
   "outputs": [],
   "source": [
    "def edo(y, t):\n",
    "    return (y[1], -g+k*y[1])\n"
   ]
  },
  {
   "cell_type": "markdown",
   "metadata": {},
   "source": [
    "Solução e definição de intervalo de tempo:"
   ]
  },
  {
   "cell_type": "code",
   "execution_count": 19,
   "metadata": {},
   "outputs": [],
   "source": [
    "yci = [y0,0]\n",
    "ts = np.linspace(1, 10, 25)\n",
    "us = odeint(edo, yci, ts)\n",
    "ys = us[:, 0]\n"
   ]
  },
  {
   "cell_type": "markdown",
   "metadata": {},
   "source": [
    "Gráfico:"
   ]
  },
  {
   "cell_type": "code",
   "execution_count": 21,
   "metadata": {},
   "outputs": [
    {
     "name": "stderr",
     "output_type": "stream",
     "text": [
      "C:\\Users\\T-Gamer\\AppData\\Local\\Temp/ipykernel_11040/642509788.py:6: UserWarning: Legend does not support 'k' instances.\n",
      "A proxy artist may be used instead.\n",
      "See: https://matplotlib.org/users/legend_guide.html#creating-artists-specifically-for-adding-to-the-legend-aka-proxy-artists\n",
      "  plt.legend('k = 0', 'k = 0.25', loc=0)\n",
      "C:\\Users\\T-Gamer\\AppData\\Local\\Temp/ipykernel_11040/642509788.py:6: UserWarning: Legend does not support ' ' instances.\n",
      "A proxy artist may be used instead.\n",
      "See: https://matplotlib.org/users/legend_guide.html#creating-artists-specifically-for-adding-to-the-legend-aka-proxy-artists\n",
      "  plt.legend('k = 0', 'k = 0.25', loc=0)\n",
      "C:\\Users\\T-Gamer\\AppData\\Local\\Temp/ipykernel_11040/642509788.py:6: UserWarning: Legend does not support '=' instances.\n",
      "A proxy artist may be used instead.\n",
      "See: https://matplotlib.org/users/legend_guide.html#creating-artists-specifically-for-adding-to-the-legend-aka-proxy-artists\n",
      "  plt.legend('k = 0', 'k = 0.25', loc=0)\n",
      "C:\\Users\\T-Gamer\\AppData\\Local\\Temp/ipykernel_11040/642509788.py:6: UserWarning: Legend does not support '0' instances.\n",
      "A proxy artist may be used instead.\n",
      "See: https://matplotlib.org/users/legend_guide.html#creating-artists-specifically-for-adding-to-the-legend-aka-proxy-artists\n",
      "  plt.legend('k = 0', 'k = 0.25', loc=0)\n"
     ]
    },
    {
     "data": {
      "image/png": "[encoded data removed]",
      "text/plain": [
       "<Figure size 432x288 with 1 Axes>"
      ]
     },
     "metadata": {
      "needs_background": "light"
     },
     "output_type": "display_data"
    }
   ],
   "source": [
    "plt.plot(ts, ys, '-', color='#17a589')\n",
    "plt.xlabel('tempo')\n",
    "plt.ylabel('posição')\n",
    "plt.title('Queda com arrasto')\n",
    "plt.ylim(0,y0+100)\n",
    "plt.legend('k = 0', 'k = 0.25', loc=0)\n",
    "plt.grid(True)\n",
    "\n",
    "plt.show()\n"
   ]
  }
 ],
 "metadata": {
  "kernelspec": {
   "display_name": "Python 3.10.4 64-bit",
   "language": "python",
   "name": "python3"
  },
  "language_info": {
   "codemirror_mode": {
    "name": "ipython",
    "version": 3
   },
   "file_extension": ".py",
   "mimetype": "text/x-python",
   "name": "python",
   "nbconvert_exporter": "python",
   "pygments_lexer": "ipython3",
   "version": "3.10.4"
  },
  "orig_nbformat": 4,
  "vscode": {
   "interpreter": {
    "hash": "fb071969cc081d156db4658a52cc12ff3302089485c0c8cb524fcf02c6362775"
   }
  }
 },
 "nbformat": 4,
 "nbformat_minor": 2
}
